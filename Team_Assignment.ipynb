{
  "nbformat": 4,
  "nbformat_minor": 0,
  "metadata": {
    "colab": {
      "name": "Team Assignment.ipynb",
      "provenance": []
    },
    "kernelspec": {
      "name": "python3",
      "display_name": "Python 3"
    }
  },
  "cells": [
    {
      "cell_type": "code",
      "metadata": {
        "id": "yjuicN62QTVU",
        "colab_type": "code",
        "colab": {
          "base_uri": "https://localhost:8080/",
          "height": 92
        },
        "outputId": "d7749877-2d14-4119-fd1a-2968e302315f"
      },
      "source": [
        "import nltk\n",
        "nltk.download('wordnet')\n",
        "\n",
        "from nltk.corpus import wordnet\n",
        "synonyms = [];\n",
        "antonyms = [];\n",
        "\n",
        "for syn in wordnet.synsets('Happy'):\n",
        "  for l in syn.lemmas():\n",
        "    synonyms.append(l.name())\n",
        "    if l.antonyms():\n",
        "      antonyms.append(l.antonyms()[0].name())\n",
        "print(set(synonyms))\n",
        "print(set(antonyms))"
      ],
      "execution_count": 3,
      "outputs": [
        {
          "output_type": "stream",
          "text": [
            "[nltk_data] Downloading package wordnet to /root/nltk_data...\n",
            "[nltk_data]   Package wordnet is already up-to-date!\n",
            "{'happy', 'felicitous', 'well-chosen', 'glad'}\n",
            "{'unhappy'}\n"
          ],
          "name": "stdout"
        }
      ]
    },
    {
      "cell_type": "markdown",
      "metadata": {
        "id": "imBoxLfeSTMQ",
        "colab_type": "text"
      },
      "source": [
        "Jaukeel Carvan, Asim Burrell, Ira Streeter\n",
        "Class Assignment Report\n",
        "\n",
        "    WordNet is a large lexical database of English. WordNet links words into semantic relations including synonyms and antonyms. In our program, we are pulling data from Wordnet. This database is determining the ‘similarity’ in the word we choose to input as a base. For instance, in our program one word we inputted was ‘happy’. Through the WordNet database, we simply have to call our print function and apply the word synonyms to see ‘similar’ words to the word mentioned; in this case ‘happy’. How WordNet chooses words that are similar are through their 117,000 linked synsets, which are updated and redefined as time past. "
      ]
    }
  ]
}